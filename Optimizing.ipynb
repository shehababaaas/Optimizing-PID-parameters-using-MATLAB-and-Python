{
 "cells": [
  {
   "cell_type": "code",
   "execution_count": 1,
   "metadata": {},
   "outputs": [],
   "source": [
    "import pickle\n",
    "from scipy.io import loadmat,savemat\n",
    "import numpy as np\n",
    "from numpy import clip\n",
    "import matplotlib.pyplot as plt\n",
    "import matplotlib\n",
    "import warnings\n",
    "warnings.filterwarnings(\"ignore\")\n",
    "#plt.rcParams['axes.color_cycle']='r'\n",
    "plt.rcParams['lines.linewidth'] = 1.5"
   ]
  },
  {
   "cell_type": "code",
   "execution_count": 2,
   "metadata": {},
   "outputs": [],
   "source": [
    "from mealpy.human_based import TLO\n",
    "from mealpy.physics_based import EO\n",
    "from mealpy.math_based import CGO,GBO"
   ]
  },
  {
   "cell_type": "code",
   "execution_count": 3,
   "metadata": {
    "tags": []
   },
   "outputs": [],
   "source": [
    "import matlab.engine"
   ]
  },
  {
   "cell_type": "code",
   "execution_count": 4,
   "metadata": {},
   "outputs": [],
   "source": [
    "eng = matlab.engine.start_matlab()"
   ]
  },
  {
   "cell_type": "code",
   "execution_count": 5,
   "metadata": {},
   "outputs": [],
   "source": [
    "counter = 0\n",
    "results_hist = []\n",
    "last_run = None\n",
    "LC=0.01\n",
    "def run_sim(x0):\n",
    "    global last_run,lowerbound,upperbound,LC\n",
    "    P1,I1,D1,P2,I2,D2=x0\n",
    "    inputs = loadmat(\"Input.mat\")\n",
    "    inp_pos = [P1,I1,D1,P2,I2,D2]\n",
    "    inp_pos= clip(inp_pos, lowerbound, upperbound)\n",
    "    inputs[\"P1\"] = inp_pos[0];inputs[\"I1\"] = inp_pos[1];inputs[\"D1\"] = inp_pos[2];\n",
    "    inputs[\"P2\"] = inp_pos[3];inputs[\"I2\"] = inp_pos[4];inputs[\"D2\"] = inp_pos[5];\n",
    "    inputs[\"LC\"] = LC\n",
    "    savemat(\"Input.mat\",inputs)\n",
    "    eng.model_run(nargout=0)\n",
    "    outputs = loadmat(\"Output.mat\")\n",
    "    last_run = outputs\n",
    "    return outputs\n",
    "\n",
    "def cost(x0,save=False):\n",
    "    data = run_sim(x0)\n",
    "    c = data[\"cost\"][0][0]\n",
    "    return c\n",
    "\n",
    "def f(x):\n",
    "    n_particles = x.shape[0]\n",
    "    j = [cost(x[i]) for i in range(n_particles)]\n",
    "    return np.array(j)"
   ]
  },
  {
   "cell_type": "code",
   "execution_count": 6,
   "metadata": {},
   "outputs": [],
   "source": [
    "def loadData():\n",
    "    # for reading also binary mode is important\n",
    "    dbfile = open('MATLAB_OPT_Results', 'rb')     \n",
    "    db = pickle.load(dbfile)\n",
    "    for keys in db:\n",
    "        ##print(keys, '=>', db[keys])\n",
    "        pass\n",
    "    dbfile.close()\n",
    "    return db"
   ]
  },
  {
   "cell_type": "code",
   "execution_count": 7,
   "metadata": {},
   "outputs": [],
   "source": [
    "def get_point(results):\n",
    "    point={}\n",
    "    point[\"P1\"] = results[\"P1\"][0][0];point[\"I1\"] = results[\"I1\"][0][0];point[\"D1\"] = results[\"D1\"][0][0]\n",
    "    point[\"P2\"] = results[\"P2\"][0][0];point[\"I2\"] = results[\"I2\"][0][0];point[\"D2\"] = results[\"D2\"][0][0]\n",
    "    #point = list(point.values())\n",
    "    return point"
   ]
  },
  {
   "cell_type": "code",
   "execution_count": 8,
   "metadata": {},
   "outputs": [],
   "source": [
    "verbose = True  # Print out the training results\n",
    "epoch = 10  # Number of iterations / generations / epochs\n",
    "pop_size = 10  # Populations size (Number of individuals / Number of solutions)\n",
    "lowerbound = [0,0,0,0,0,0]\n",
    "upperbound = [1,1,1,1,1,1]\n",
    "problem_dict1 = {\n",
    "    \"fit_func\": cost,\n",
    "    \"lb\": lowerbound,\n",
    "    \"ub\": upperbound,\n",
    "    \"minmax\": \"min\",\n",
    "    \"verbose\": True,\n",
    "    }"
   ]
  },
  {
   "cell_type": "code",
   "execution_count": 9,
   "metadata": {},
   "outputs": [
    {
     "data": {
      "text/plain": [
       "0.04191466817685144"
      ]
     },
     "execution_count": 9,
     "metadata": {},
     "output_type": "execute_result"
    }
   ],
   "source": [
    "cost(6*[0.5])"
   ]
  },
  {
   "cell_type": "code",
   "execution_count": 10,
   "metadata": {},
   "outputs": [],
   "source": [
    "TLBO_sol = TLO.BaseTLO(problem_dict1,epoch=epoch, pop_size=pop_size)\n",
    "EO_sol = EO.BaseEO(problem_dict1,epoch=epoch, pop_size=pop_size)\n",
    "CGO_sol = CGO.OriginalCGO(problem_dict1,epoch=epoch, pop_size=pop_size)\n",
    "GBO_sol = GBO.OriginalGBO(problem_dict1,epoch=epoch, pop_size=pop_size)"
   ]
  },
  {
   "cell_type": "code",
   "execution_count": 11,
   "metadata": {},
   "outputs": [
    {
     "name": "stdout",
     "output_type": "stream",
     "text": [
      "> Epoch: 1, Current best: 0.022076755774114318, Global best: 0.022076755774114318, Runtime: 3.91554 seconds\n",
      "> Epoch: 2, Current best: 0.019983612700393356, Global best: 0.019983612700393356, Runtime: 3.90257 seconds\n",
      "> Epoch: 3, Current best: 0.01854208132261394, Global best: 0.01854208132261394, Runtime: 3.84073 seconds\n",
      "> Epoch: 4, Current best: 0.017991625149794372, Global best: 0.017991625149794372, Runtime: 3.85473 seconds\n",
      "> Epoch: 5, Current best: 0.017635885900071462, Global best: 0.017635885900071462, Runtime: 3.87561 seconds\n",
      "> Epoch: 6, Current best: 0.017125057178610806, Global best: 0.017125057178610806, Runtime: 3.85669 seconds\n",
      "> Epoch: 7, Current best: 0.016937941848572294, Global best: 0.016937941848572294, Runtime: 3.93349 seconds\n",
      "> Epoch: 8, Current best: 0.016924935176992974, Global best: 0.016924935176992974, Runtime: 4.14293 seconds\n",
      "> Epoch: 9, Current best: 0.016924935176992974, Global best: 0.016924935176992974, Runtime: 3.89060 seconds\n",
      "> Epoch: 10, Current best: 0.016924935176992974, Global best: 0.016924935176992974, Runtime: 3.91952 seconds\n"
     ]
    }
   ],
   "source": [
    "TLBO_solve= TLBO_sol.solve()"
   ]
  },
  {
   "cell_type": "code",
   "execution_count": 12,
   "metadata": {},
   "outputs": [
    {
     "name": "stdout",
     "output_type": "stream",
     "text": [
      "> Epoch: 1, Current best: 0.034283916349493314, Global best: 0.034283916349493314, Runtime: 2.11535 seconds\n",
      "> Epoch: 2, Current best: 0.03490503996270592, Global best: 0.034283916349493314, Runtime: 2.11734 seconds\n",
      "> Epoch: 3, Current best: 0.03490503996270592, Global best: 0.034283916349493314, Runtime: 2.14327 seconds\n",
      "> Epoch: 4, Current best: 0.03490503996270592, Global best: 0.034283916349493314, Runtime: 2.09540 seconds\n",
      "> Epoch: 5, Current best: 0.04288670193628594, Global best: 0.034283916349493314, Runtime: 2.13230 seconds\n",
      "> Epoch: 6, Current best: 0.03624493140091455, Global best: 0.034283916349493314, Runtime: 2.16026 seconds\n",
      "> Epoch: 7, Current best: 0.03174129706643879, Global best: 0.03174129706643879, Runtime: 2.13227 seconds\n",
      "> Epoch: 8, Current best: 0.032160047322990666, Global best: 0.03174129706643879, Runtime: 2.08642 seconds\n",
      "> Epoch: 9, Current best: 0.030460995007855343, Global best: 0.030460995007855343, Runtime: 2.11136 seconds\n",
      "> Epoch: 10, Current best: 0.030483938170341136, Global best: 0.030460995007855343, Runtime: 2.14527 seconds\n"
     ]
    }
   ],
   "source": [
    "EO_solve= EO_sol.solve()"
   ]
  },
  {
   "cell_type": "code",
   "execution_count": 13,
   "metadata": {},
   "outputs": [
    {
     "name": "stdout",
     "output_type": "stream",
     "text": [
      "> Epoch: 1, Current best: 0.018830248151192896, Global best: 0.018830248151192896, Runtime: 7.71438 seconds\n",
      "> Epoch: 2, Current best: 0.016924935176992974, Global best: 0.016924935176992974, Runtime: 7.64756 seconds\n",
      "> Epoch: 3, Current best: 0.016924935176992974, Global best: 0.016924935176992974, Runtime: 7.76636 seconds\n",
      "> Epoch: 4, Current best: 0.016924935176992974, Global best: 0.016924935176992974, Runtime: 7.90236 seconds\n",
      "> Epoch: 5, Current best: 0.016924935176992974, Global best: 0.016924935176992974, Runtime: 7.81511 seconds\n",
      "> Epoch: 6, Current best: 0.016924935176992974, Global best: 0.016924935176992974, Runtime: 7.76824 seconds\n",
      "> Epoch: 7, Current best: 0.016924935176992974, Global best: 0.016924935176992974, Runtime: 7.67050 seconds\n",
      "> Epoch: 8, Current best: 0.016924935176992974, Global best: 0.016924935176992974, Runtime: 7.84703 seconds\n",
      "> Epoch: 9, Current best: 0.016924935176992974, Global best: 0.016924935176992974, Runtime: 7.76924 seconds\n",
      "> Epoch: 10, Current best: 0.016924935176992974, Global best: 0.016924935176992974, Runtime: 7.61265 seconds\n"
     ]
    }
   ],
   "source": [
    "CGO_solve= CGO_sol.solve()"
   ]
  },
  {
   "cell_type": "code",
   "execution_count": 14,
   "metadata": {},
   "outputs": [
    {
     "name": "stdout",
     "output_type": "stream",
     "text": [
      "> Epoch: 1, Current best: 0.03100674624302543, Global best: 0.03100674624302543, Runtime: 1.94680 seconds\n",
      "> Epoch: 2, Current best: 0.028638722170420815, Global best: 0.028638722170420815, Runtime: 1.93284 seconds\n",
      "> Epoch: 3, Current best: 0.028864444643692644, Global best: 0.028638722170420815, Runtime: 1.94380 seconds\n",
      "> Epoch: 4, Current best: 0.020300450903311337, Global best: 0.020300450903311337, Runtime: 1.91691 seconds\n",
      "> Epoch: 5, Current best: 0.017340873776244894, Global best: 0.017340873776244894, Runtime: 1.91784 seconds\n",
      "> Epoch: 6, Current best: 0.021164728869206954, Global best: 0.017340873776244894, Runtime: 1.92984 seconds\n",
      "> Epoch: 7, Current best: 0.016924935176992974, Global best: 0.016924935176992974, Runtime: 1.93882 seconds\n",
      "> Epoch: 8, Current best: 0.016924935176992974, Global best: 0.016924935176992974, Runtime: 1.93882 seconds\n",
      "> Epoch: 9, Current best: 0.016924935176992974, Global best: 0.016924935176992974, Runtime: 1.92486 seconds\n",
      "> Epoch: 10, Current best: 0.018396295280231276, Global best: 0.016924935176992974, Runtime: 1.92685 seconds\n"
     ]
    }
   ],
   "source": [
    "GBO_solve= GBO_sol.solve()"
   ]
  },
  {
   "cell_type": "code",
   "execution_count": 15,
   "metadata": {},
   "outputs": [
    {
     "data": {
      "text/plain": [
       "(array([1., 1., 1., 1., 1., 1.]), 0.016924935176992974)"
      ]
     },
     "execution_count": 15,
     "metadata": {},
     "output_type": "execute_result"
    }
   ],
   "source": [
    "TLBO_solve"
   ]
  },
  {
   "cell_type": "code",
   "execution_count": 17,
   "metadata": {},
   "outputs": [
    {
     "data": {
      "text/plain": [
       "(0.016924935176992974, 0.030460995007855343, 0.016924935176992974)"
      ]
     },
     "execution_count": 17,
     "metadata": {},
     "output_type": "execute_result"
    }
   ],
   "source": [
    "TLBO_solve[1],EO_solve[1],CGO_solve[1]"
   ]
  },
  {
   "cell_type": "code",
   "execution_count": 18,
   "metadata": {},
   "outputs": [],
   "source": [
    "results_EO = run_sim(EO_solve[0])\n",
    "results_TLBO = run_sim(TLBO_solve[0])\n",
    "results_CGO = run_sim(CGO_solve[0])\n",
    "results_GBO = run_sim(GBO_solve[0])"
   ]
  },
  {
   "cell_type": "code",
   "execution_count": 19,
   "metadata": {},
   "outputs": [],
   "source": [
    "t = results_TLBO[\"t_var\"]\n",
    "#t_true = np.where(t<=6,True,False)\n",
    "#t = np.array(t)[t_true]"
   ]
  },
  {
   "cell_type": "code",
   "execution_count": 21,
   "metadata": {},
   "outputs": [
    {
     "data": {
      "image/png": "[encoded data removed]",
      "text/plain": [
       "<Figure size 720x432 with 1 Axes>"
      ]
     },
     "metadata": {
      "needs_background": "light"
     },
     "output_type": "display_data"
    }
   ],
   "source": [
    "fig = plt.subplots(figsize=[10,6])\n",
    "plt.plot(t,results_CGO[\"df1\"],label='CGO')\n",
    "plt.plot(t,results_GBO[\"df1\"],label='GBO')\n",
    "plt.plot(t,results_TLBO[\"df1\"],label='TLBO')\n",
    "plt.plot(t,results_EO[\"df1\"],label='EO')\n",
    "#plt.title(\"\",)\n",
    "plt.ylabel(\"Delta F1 (p.u)\")\n",
    "plt.xlabel(\"time (sec)\")\n",
    "#ticker = matplotlib.ticker.EngFormatter(unit='')\n",
    "#fig[1].yaxis.set_major_formatter(ticker)\n",
    "plt.ticklabel_format(axis='y', style='sci', scilimits=(4,0))\n",
    "plt.setp(fig[1].spines.values(), linewidth=1)\n",
    "#plt.setp(fig[1].yaxis.label)\n",
    "plt.legend()\n",
    "plt.savefig(\"fig1.png\",dpi=400)"
   ]
  },
  {
   "cell_type": "code",
   "execution_count": 136,
   "metadata": {},
   "outputs": [
    {
     "data": {
      "image/png": "[encoded data removed]",
      "text/plain": [
       "<Figure size 720x432 with 1 Axes>"
      ]
     },
     "metadata": {
      "needs_background": "light"
     },
     "output_type": "display_data"
    }
   ],
   "source": [
    "fig = plt.subplots(figsize=[10,6])\n",
    "plt.plot(t,results_VCS[\"df2\"],label='VCS')\n",
    "plt.plot(t,results_TLBO[\"df2\"],label='TLBO')\n",
    "plt.plot(t,results_EO[\"df2\"],label='EO')\n",
    "#plt.title(\"\",)\n",
    "plt.ylabel(\"Delta F2 (p.u)\")\n",
    "plt.xlabel(\"time (sec)\")\n",
    "#ticker = matplotlib.ticker.EngFormatter(unit='')\n",
    "#fig[1].yaxis.set_major_formatter(ticker)\n",
    "plt.ticklabel_format(axis='y', style='sci', scilimits=(4,0))\n",
    "plt.setp(fig[1].spines.values(), linewidth=1)\n",
    "#plt.setp(fig[1].yaxis.label)\n",
    "plt.legend()\n",
    "plt.savefig(\"fig2.png\",dpi=400)"
   ]
  },
  {
   "cell_type": "code",
   "execution_count": 23,
   "metadata": {},
   "outputs": [
    {
     "data": {
      "image/png": "[encoded data removed]",
      "text/plain": [
       "<Figure size 720x432 with 1 Axes>"
      ]
     },
     "metadata": {
      "needs_background": "light"
     },
     "output_type": "display_data"
    }
   ],
   "source": [
    "fig = plt.subplots(figsize=[10,6])\n",
    "plt.plot(t,results_CGO[\"df_tie\"],label='CGO')\n",
    "plt.plot(t,results_TLBO[\"df_tie\"],label='TLBO')\n",
    "plt.plot(t,results_EO[\"df_tie\"],label='EO')\n",
    "#plt.title(\"\",)\n",
    "plt.ylabel(\"Tie Line Deviation (p.u)\")\n",
    "plt.xlabel(\"time (sec)\")\n",
    "#ticker = matplotlib.ticker.EngFormatter(unit='')\n",
    "#fig[1].yaxis.set_major_formatter(ticker)\n",
    "plt.ticklabel_format(axis='y', style='sci', scilimits=(4,0))\n",
    "plt.setp(fig[1].spines.values(), linewidth=1)\n",
    "#plt.setp(fig[1].yaxis.label)\n",
    "plt.legend()\n",
    "plt.savefig(\"fig3.png\",dpi=400)"
   ]
  },
  {
   "cell_type": "code",
   "execution_count": null,
   "metadata": {},
   "outputs": [],
   "source": []
  }
 ],
 "metadata": {
  "kernelspec": {
   "display_name": "Python 3 (ipykernel)",
   "language": "python",
   "name": "python3"
  },
  "language_info": {
   "codemirror_mode": {
    "name": "ipython",
    "version": 3
   },
   "file_extension": ".py",
   "mimetype": "text/x-python",
   "name": "python",
   "nbconvert_exporter": "python",
   "pygments_lexer": "ipython3",
   "version": "3.7.6"
  }
 },
 "nbformat": 4,
 "nbformat_minor": 4
}
